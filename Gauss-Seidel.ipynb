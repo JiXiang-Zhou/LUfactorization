{
 "cells": [
  {
   "cell_type": "code",
   "execution_count": 1,
   "metadata": {},
   "outputs": [],
   "source": [
    "import math\n",
    "def Norm2(b):\n",
    "    total=0\n",
    "    for i in b:\n",
    "        total=total+i**2\n",
    "    return math.sqrt(total)"
   ]
  },
  {
   "cell_type": "code",
   "execution_count": 2,
   "metadata": {},
   "outputs": [],
   "source": [
    "def matrix_mutiply(A,b):\n",
    "    result=[]\n",
    "    if len(A[0])!=len(b):\n",
    "        return False\n",
    "    for row in A:\n",
    "        total=0\n",
    "        for i in range(len(b)):\n",
    "            total=total+row[i]*b[i]\n",
    "        result.append(total)\n",
    "    return result"
   ]
  },
  {
   "cell_type": "code",
   "execution_count": 3,
   "metadata": {},
   "outputs": [],
   "source": [
    "def matrix_minus(a,b):\n",
    "    if len(a)!=len(b):\n",
    "        return False\n",
    "    return [ a[i]-b[i] for i in range(len(a)) ]"
   ]
  },
  {
   "cell_type": "code",
   "execution_count": 4,
   "metadata": {},
   "outputs": [],
   "source": [
    "def one_loop_GaussSeidel(A, b, x_old):\n",
    "    x_new=[0 for i in x_old]\n",
    "    for i in range(len(x_old)):#i=0...len(xi)-1\n",
    "        sum1=0\n",
    "        for j in range(i):#j=0...i-1\n",
    "            sum1=sum1+A[i][j]*x_new[j]\n",
    "        sum2=0\n",
    "        for j in range(i+1,len(x_old)):#j=i+1...len(xi)-1\n",
    "            sum2=sum2+A[i][j]*x_old[j]\n",
    "        x_new[i]=(b[i]-sum1-sum2)/A[i][i]\n",
    "    return x_new"
   ]
  },
  {
   "cell_type": "code",
   "execution_count": 5,
   "metadata": {},
   "outputs": [],
   "source": [
    "def GaussSeidel(A, b, x0, tol):\n",
    "    x_old=x0\n",
    "    x_new=one_loop_GaussSeidel(A, b, x_old)\n",
    "    interation=0\n",
    "    Error_old=Norm2(matrix_minus(matrix_mutiply(A,x0),b))\n",
    "    while tol<Norm2(matrix_minus(matrix_mutiply(A,x_new),b))/Error_old:\n",
    "        x_old=x_new\n",
    "        x_new=one_loop_GaussSeidel(A, b, x_old)\n",
    "        interation=interation+1\n",
    "    print(\"interation:\",interation)\n",
    "    return x_new"
   ]
  }
 ],
 "metadata": {
  "kernelspec": {
   "display_name": "Python 3",
   "language": "python",
   "name": "python3"
  },
  "language_info": {
   "codemirror_mode": {
    "name": "ipython",
    "version": 3
   },
   "file_extension": ".py",
   "mimetype": "text/x-python",
   "name": "python",
   "nbconvert_exporter": "python",
   "pygments_lexer": "ipython3",
   "version": "3.8.5"
  }
 },
 "nbformat": 4,
 "nbformat_minor": 4
}
