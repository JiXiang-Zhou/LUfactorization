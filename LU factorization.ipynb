{
 "cells": [
  {
   "cell_type": "code",
   "execution_count": 46,
   "metadata": {},
   "outputs": [],
   "source": [
    "def LUFactorization(a):\n",
    "    length = len(a)\n",
    "    #check imput\n",
    "    if length != len(a[0]):\n",
    "        print(\"illegal imput\")\n",
    "        return False\n",
    "    #intialize up and down\n",
    "    down = [[0 for j in a[0]] for i in a]\n",
    "    up=a\n",
    "    for i in range(len(up)-1):#i=0...len(a)-2\n",
    "        if up[i][i]==0:\n",
    "            #check pivoting\n",
    "            print(\"pivoting error\")\n",
    "            return False\n",
    "        #factorization\n",
    "        for j in range(i+1,len(up)):#j=i+1...len(a)-1\n",
    "            m=-up[j][i]/up[i][i]\n",
    "            up[j][i]=0\n",
    "            for k in range(i+1,len(up)):#k=i+1...len(a)-1\n",
    "                up[j][k]=up[j][k]+m*up[i][k]\n",
    "            down[j][i]=-m\n",
    "    #condense up and down\n",
    "    LU=down\n",
    "    for i in range(length):\n",
    "        for j in range(i,length):\n",
    "            LU[i][j]=up[i][j]\n",
    "    return LU"
   ]
  },
  {
   "cell_type": "code",
   "execution_count": 47,
   "metadata": {},
   "outputs": [],
   "source": [
    "a=[[1 for i in range(15)]for i in range(15)]\n",
    "for i in range(15):\n",
    "    a[i][i]=15\n",
    "    \n",
    "LU=LUFactorization(a)\n"
   ]
  },
  {
   "cell_type": "code",
   "execution_count": 48,
   "metadata": {},
   "outputs": [],
   "source": [
    "b=[i+1 for i in range(15)]"
   ]
  },
  {
   "cell_type": "code",
   "execution_count": 49,
   "metadata": {},
   "outputs": [],
   "source": [
    "def ForwardSubstitution(LU,b):\n",
    "    #get down matrix\n",
    "    down = [[0 for j in LU[0]] for i in LU]\n",
    "    for i in range(len(LU)):#i=0...len(LU)-1\n",
    "        for j in range(i):#j=0...i-1\n",
    "            down[i][j]=LU[i][j]\n",
    "    for i in range(len(LU)):#i=0...len(LU)-1\n",
    "        down[i][i]=1\n",
    "    #forward substitution\n",
    "    y=b\n",
    "    for i in range(1,len(LU)):#i=1...len(LU)-1\n",
    "        for j in range(i):#j=0...i-1\n",
    "            y[i]=y[i]-down[i][j]*y[j]\n",
    "    return y"
   ]
  },
  {
   "cell_type": "code",
   "execution_count": 50,
   "metadata": {},
   "outputs": [],
   "source": [
    "y=ForwardSubstitution(LU,b)"
   ]
  },
  {
   "cell_type": "code",
   "execution_count": 51,
   "metadata": {},
   "outputs": [],
   "source": [
    "def BackwardSubstitution(LU,y):\n",
    "    #get up matrix\n",
    "    up = [[0 for j in LU[0]] for i in LU]\n",
    "    for i in range(len(LU)):#i=0...len(LU)-1\n",
    "        for j in range(i,len(LU)):#j=i...len(LU)-1\n",
    "            up[i][j]=LU[i][j]\n",
    "    #backward substitution\n",
    "    x=y\n",
    "    for i in range(len(LU)-1,-1,-1):#i=len(LU)-1...0\n",
    "        for j in range(i+1,len(LU)):#j=i+1...len(LU)-1\n",
    "            x[i]=x[i]-up[i][j]*x[j]\n",
    "        x[i]=x[i]/up[i][i]\n",
    "    return x"
   ]
  },
  {
   "cell_type": "code",
   "execution_count": 52,
   "metadata": {},
   "outputs": [],
   "source": [
    "x=BackwardSubstitution(LU,y)"
   ]
  },
  {
   "cell_type": "code",
   "execution_count": 58,
   "metadata": {},
   "outputs": [],
   "source": [
    "k=[0 for i in range(15)]"
   ]
  },
  {
   "cell_type": "code",
   "execution_count": 59,
   "metadata": {},
   "outputs": [],
   "source": [
    "for i in range(15):\n",
    "    for j in range(15):\n",
    "        k[i]=k[i]+a[i][j]*z[j]"
   ]
  },
  {
   "cell_type": "code",
   "execution_count": 57,
   "metadata": {},
   "outputs": [],
   "source": [
    "z=[-0.152709,0.133005,0.418719,0.704434,-0.0812808,0.204434,0.490148,0.775862,-0.00985222,0.275862,0.561576,-0.224138,0.0615764,0.347291,0.633005]"
   ]
  },
  {
   "cell_type": "code",
   "execution_count": 61,
   "metadata": {},
   "outputs": [
    {
     "data": {
      "text/plain": [
       "[-0.22413793103448276,\n",
       " -0.15270935960591137,\n",
       " -0.08128078817733987,\n",
       " -0.009852216748768496,\n",
       " 0.06157635467980291,\n",
       " 0.13300492610837436,\n",
       " 0.20443349753694576,\n",
       " 0.2758620689655172,\n",
       " 0.34729064039408875,\n",
       " 0.41871921182266014,\n",
       " 0.4901477832512316,\n",
       " 0.5615763546798032,\n",
       " 0.6330049261083743,\n",
       " 0.704433497536946,\n",
       " 0.7758620689655173]"
      ]
     },
     "execution_count": 61,
     "metadata": {},
     "output_type": "execute_result"
    }
   ],
   "source": [
    "x"
   ]
  },
  {
   "cell_type": "code",
   "execution_count": null,
   "metadata": {},
   "outputs": [],
   "source": []
  }
 ],
 "metadata": {
  "kernelspec": {
   "display_name": "Python 3",
   "language": "python",
   "name": "python3"
  },
  "language_info": {
   "codemirror_mode": {
    "name": "ipython",
    "version": 3
   },
   "file_extension": ".py",
   "mimetype": "text/x-python",
   "name": "python",
   "nbconvert_exporter": "python",
   "pygments_lexer": "ipython3",
   "version": "3.8.5"
  }
 },
 "nbformat": 4,
 "nbformat_minor": 4
}
